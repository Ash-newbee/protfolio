{
  "nbformat": 4,
  "nbformat_minor": 0,
  "metadata": {
    "colab": {
      "name": "linearRegression.ipynb",
      "provenance": [],
      "authorship_tag": "ABX9TyMA9O/XXlQjfn+NtPsL+9OZ"
    },
    "kernelspec": {
      "name": "python3",
      "display_name": "Python 3"
    },
    "language_info": {
      "name": "python"
    }
  },
  "cells": [
    {
      "cell_type": "code",
      "metadata": {
        "id": "3HwhGZOsZ4Hp"
      },
      "source": [
        "import numpy as np\n",
        "import matplotlib.pyplot as plt\n",
        "import math"
      ],
      "execution_count": 1,
      "outputs": []
    },
    {
      "cell_type": "markdown",
      "metadata": {
        "id": "Vb1xIwfNUf9b"
      },
      "source": [
        "DATA GENEATION"
      ]
    },
    {
      "cell_type": "code",
      "metadata": {
        "id": "XFlhxFMiUjA1"
      },
      "source": [
        "X=np.array([1,2,3,4,5,6,7,8,9,10])\n",
        "Y=np.array([18,36,36,49,53,50,57,60,89,99])"
      ],
      "execution_count": 33,
      "outputs": []
    },
    {
      "cell_type": "code",
      "metadata": {
        "id": "Y5JUKkgDULiU"
      },
      "source": [
        "class LinearRegression:\n",
        "  def __init__(self,X,Y,alpha):\n",
        "    self.X=X\n",
        "    self.Y=Y\n",
        "    self.alpha=alpha\n",
        "\n",
        "  def optimize_parameters(self):\n",
        "    w1=1\n",
        "    w0=0\n",
        "    for i in range(1000):\n",
        "        self.yh = w1*self.X + w0\n",
        "        dj1=np.mean((Y-self.yh)*X)\n",
        "        dj0=np.mean(Y-self.yh)\n",
        "        w1 =w1 +self.alpha*dj1\n",
        "        w0 =w0 +self.alpha*dj0\n",
        "\n",
        "  def plot(self):\n",
        "    print(self.yh)\n",
        "    plt.scatter(self.X,self.Y)\n",
        "    plt.plot(self.X,self.yh)\n",
        "    \n"
      ],
      "execution_count": 27,
      "outputs": []
    },
    {
      "cell_type": "code",
      "metadata": {
        "colab": {
          "base_uri": "https://localhost:8080/",
          "height": 300
        },
        "id": "Nsu5BaTGUQFQ",
        "outputId": "b583e776-f755-43ca-d94b-86b97889e522"
      },
      "source": [
        "alpha=0.01\n",
        "linear=LinearRegression(X,Y,alpha)\n",
        "linear.optimize_parameters()\n",
        "linear.plot()"
      ],
      "execution_count": 34,
      "outputs": [
        {
          "output_type": "stream",
          "name": "stdout",
          "text": [
            "[19.58067351 27.3155572  35.05044089 42.78532458 50.52020827 58.25509197\n",
            " 65.98997566 73.72485935 81.45974304 89.19462673]\n"
          ]
        },
        {
          "output_type": "display_data",
          "data": {
            "image/png": "[encoded data removed]",
            "text/plain": [
              "<Figure size 432x288 with 1 Axes>"
            ]
          },
          "metadata": {
            "needs_background": "light"
          }
        }
      ]
    }
  ]
}